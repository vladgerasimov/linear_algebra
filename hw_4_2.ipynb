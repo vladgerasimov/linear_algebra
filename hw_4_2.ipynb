{
 "cells": [
  {
   "cell_type": "code",
   "execution_count": 7,
   "metadata": {},
   "outputs": [],
   "source": [
    "import numpy as np\n",
    "from scipy.linalg import lu"
   ]
  },
  {
   "cell_type": "markdown",
   "metadata": {},
   "source": [
    "#### 1. Решить систему уравнений методом Крамера:\n",
    "\n",
    "   а) $\\begin{cases}\n",
    "x_{1}-2x_{2}=1 \\\\\n",
    "3x_{1}-4x_{2}=7\n",
    "\\end{cases}$\n",
    "    \n",
    "   б) $\\begin{cases}\n",
    "2x_{1}-x_{2}+5x_{3}=10 \\\\\n",
    "x_{1}+x_{2}-3x_{3}=-2 \\\\\n",
    "2x_{1}+4x_{2}+x_{3}=1\n",
    "\\end{cases}$"
   ]
  },
  {
   "cell_type": "markdown",
   "metadata": {},
   "source": [
    "#### Решение\n",
    "a) $$x_1 = \\frac{\n",
    "\\begin{vmatrix}\n",
    "1&-2\\\\\n",
    "7&-4\\end{vmatrix}\n",
    "}{\n",
    "\\begin{vmatrix}\n",
    "1&-2\\\\\n",
    "3&-4\\end{vmatrix}\n",
    "} = \\frac{10}{2} = 5$$\n",
    "\n",
    "$$x_2 = \\frac{\n",
    "\\begin{vmatrix}\n",
    "1&1\\\\\n",
    "3&7\\end{vmatrix}\n",
    "}{\n",
    "\\begin{vmatrix}\n",
    "1&-2\\\\\n",
    "3&-4\\end{vmatrix}\n",
    "} = \\frac{4}{2} = 2$$"
   ]
  },
  {
   "cell_type": "markdown",
   "metadata": {},
   "source": [
    "б) $$x_1 = \\frac{\n",
    "\\begin{vmatrix}\n",
    "10&-1&5\\\\\n",
    "-2&1&-3\\\\\n",
    "1&4&1\n",
    "\\end{vmatrix}\n",
    "}{\n",
    "\\begin{vmatrix}\n",
    "2&-1&5\\\\\n",
    "1&1&-3\\\\\n",
    "2&4&1\n",
    "\\end{vmatrix}\n",
    "} = \\frac{86}{43} = 2$$\n",
    "\n",
    "$$x_2 = \\frac{\n",
    "\\begin{vmatrix}\n",
    "2&10&5\\\\\n",
    "1&-2&-3\\\\\n",
    "2&1&1\n",
    "\\end{vmatrix}\n",
    "}{\n",
    "\\begin{vmatrix}\n",
    "2&-1&5\\\\\n",
    "1&1&-3\\\\\n",
    "2&4&1\n",
    "\\end{vmatrix}\n",
    "} = -\\frac{43}{43} = -1$$\n",
    "\n",
    "$$x_2 = \\frac{\n",
    "\\begin{vmatrix}\n",
    "2&-1&10\\\\\n",
    "1&1&-2\\\\\n",
    "2&4&1\n",
    "\\end{vmatrix}\n",
    "}{\n",
    "\\begin{vmatrix}\n",
    "2&-1&5\\\\\n",
    "1&1&-3\\\\\n",
    "2&4&1\n",
    "\\end{vmatrix}\n",
    "} = \\frac{43}{43} = 1$$"
   ]
  },
  {
   "cell_type": "code",
   "execution_count": 8,
   "metadata": {},
   "outputs": [
    {
     "data": {
      "text/plain": [
       "array([ 2., -1.,  1.])"
      ]
     },
     "execution_count": 8,
     "metadata": {},
     "output_type": "execute_result"
    }
   ],
   "source": [
    "A = np.array([\n",
    "    [2,-1,5],\n",
    "    [1,1,-3],\n",
    "    [2,4,1]\n",
    "])\n",
    "v = np.array([10,-2,1])\n",
    "np.linalg.solve(A,v)"
   ]
  },
  {
   "cell_type": "markdown",
   "metadata": {},
   "source": [
    "#### 2*. Найти $L$-матрицу $LU$-разложения для матрицы коэффициентов:\n",
    "\n",
    "   а)$$\\begin{pmatrix}\n",
    "1 & 2 & 4 \\\\ \n",
    "2 & 9 & 12 \\\\ \n",
    "3 & 26 & 30\n",
    "\\end{pmatrix}$$\n",
    "    \n",
    "   б)$$\\begin{pmatrix}\n",
    "1 & 1 & 2 & 4\\\\ \n",
    "2 & 5 & 8 & 9\\\\ \n",
    "3 & 18 & 29 & 18\\\\\n",
    "4 & 22 & 53 & 33\n",
    "\\end{pmatrix}$$"
   ]
  },
  {
   "cell_type": "markdown",
   "metadata": {},
   "source": [
    "#### Решение\n",
    "a) $V = \\begin{pmatrix}\n",
    "1&0&0\\\\\n",
    "2&1&0\\\\\n",
    "3&4&1\n",
    "\\end{pmatrix}$\n",
    "\n",
    "б) $V = \\begin{pmatrix}\n",
    "1&0&0&0\\\\\n",
    "2&1&0&0\\\\\n",
    "3&5&1&0\\\\\n",
    "4&6&7&0\n",
    "\\end{pmatrix}$"
   ]
  },
  {
   "cell_type": "markdown",
   "metadata": {},
   "source": [
    "#### 3*. Решить систему линейных уравнений методом $LU$-разложения\n",
    "\n",
    "$$\\begin{cases}\n",
    "2x_{1}+x_{2}+3x_{3}=1 \\\\\n",
    "11x_{1}+7x_{2}+5x_{3}=-6 \\\\\n",
    "9x_{1}+8x_{2}+4x_{3}=-5\n",
    "\\end{cases}$$"
   ]
  },
  {
   "cell_type": "markdown",
   "metadata": {},
   "source": [
    "#### Решение\n",
    "$U=\\begin{pmatrix}\n",
    "2&1&3\\\\\n",
    "11&7&5\\\\\n",
    "9&8&4\n",
    "\\end{pmatrix} \\rightarrow\n",
    "\\begin{pmatrix}\n",
    "2&1&3\\\\\n",
    "0&1.5&-11.5\\\\\n",
    "0&0&16.95\n",
    "\\end{pmatrix}$\n",
    "\n",
    "$L = \\begin{pmatrix}\n",
    "1&0&0\\\\\n",
    "5.5&1&1\\\\\n",
    "4.5&2.3&1\n",
    "\\end{pmatrix}$\n",
    "\n",
    "$Ly = b \\rightarrow y = \\begin{pmatrix}1\\\\-11.5\\\\16.95\\end{pmatrix}$\n",
    "\n",
    "$Ux=y \\rightarrow x=\\begin{pmatrix}-1\\\\0\\\\1\\end{pmatrix}$\n",
    "\n"
   ]
  },
  {
   "cell_type": "code",
   "execution_count": 9,
   "metadata": {},
   "outputs": [
    {
     "data": {
      "text/plain": [
       "array([ 1., -6., -5.])"
      ]
     },
     "execution_count": 9,
     "metadata": {},
     "output_type": "execute_result"
    }
   ],
   "source": [
    "A = np.array([[ 2.  ,  1.  ,  3.  ],\n",
    "       [11.  ,  7.  ,  5.  ],\n",
    "       [ 9.  ,  8,  4.  ]])\n",
    "A.dot(np.array([-1,0,1]))"
   ]
  },
  {
   "cell_type": "markdown",
   "metadata": {},
   "source": [
    "#### 4*. Решить систему линейных уравнений методом Холецкого\n",
    "\n",
    "$$\\begin{cases}\n",
    "81x_{1}-45x_{2}+45x_{3}=531 \\\\\n",
    "-45x_{1}+50x_{2}-15x_{3}=-460 \\\\\n",
    "45x_{1}-15x_{2}+38x_{3}=193\n",
    "\\end{cases}$$"
   ]
  },
  {
   "cell_type": "markdown",
   "metadata": {},
   "source": [
    "$L = \\begin{pmatrix}\n",
    "9&0&0\\\\\n",
    "-5&5&0\\\\\n",
    "5&2&3\n",
    "\\end{pmatrix};\n",
    "L^T = \\begin{pmatrix}\n",
    "9&-5&5\\\\\n",
    "0&5&2\\\\\n",
    "0&0&3\n",
    "\\end{pmatrix}\n",
    "$\n",
    "\n",
    "$Ly=b \\rightarrow y=\\begin{pmatrix}59\\\\-33\\\\-12\\end{pmatrix}$\n",
    "\n",
    "$L^Tx=y \\rightarrow x=\\begin{pmatrix}6\\\\-5\\\\-4\\end{pmatrix}$"
   ]
  },
  {
   "cell_type": "code",
   "execution_count": 10,
   "metadata": {},
   "outputs": [],
   "source": [
    "L = np.array([\n",
    "    [9,0,0],\n",
    "    [-5,5,0],\n",
    "    [5,2,3]\n",
    "])\n",
    "b = np.array([531, -460, 193])"
   ]
  },
  {
   "cell_type": "code",
   "execution_count": 11,
   "metadata": {},
   "outputs": [
    {
     "data": {
      "text/plain": [
       "array([ 59., -33., -12.])"
      ]
     },
     "execution_count": 11,
     "metadata": {},
     "output_type": "execute_result"
    }
   ],
   "source": [
    "y = np.linalg.inv(L).dot(b)\n",
    "y"
   ]
  },
  {
   "cell_type": "code",
   "execution_count": 12,
   "metadata": {},
   "outputs": [
    {
     "data": {
      "text/plain": [
       "array([ 6., -5., -4.])"
      ]
     },
     "execution_count": 12,
     "metadata": {},
     "output_type": "execute_result"
    }
   ],
   "source": [
    "x = np.linalg.inv(L.T).dot(y)\n",
    "x"
   ]
  }
 ],
 "metadata": {
  "kernelspec": {
   "display_name": "Python 3",
   "language": "python",
   "name": "python3"
  },
  "language_info": {
   "codemirror_mode": {
    "name": "ipython",
    "version": 3
   },
   "file_extension": ".py",
   "mimetype": "text/x-python",
   "name": "python",
   "nbconvert_exporter": "python",
   "pygments_lexer": "ipython3",
   "version": "3.8.5"
  }
 },
 "nbformat": 4,
 "nbformat_minor": 4
}
