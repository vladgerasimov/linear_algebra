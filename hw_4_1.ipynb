{
 "cells": [
  {
   "cell_type": "code",
   "execution_count": 1,
   "metadata": {},
   "outputs": [],
   "source": [
    "import numpy as np"
   ]
  },
  {
   "cell_type": "markdown",
   "metadata": {},
   "source": [
    "#### 1. Решить систему уравнений методом Гаусса:\n",
    "\n",
    "$\\begin{cases}\n",
    "x_{1}+x_{2}-x_{3}-2x_{4}=0, \\\\\n",
    "2x_{1}+x_{2}-x_{3}+x_{4}=-2, \\\\\n",
    "x_{1}+x_{2}-3x_{3}+x_{4}=4.\n",
    "\\end{cases}$"
   ]
  },
  {
   "cell_type": "markdown",
   "metadata": {},
   "source": [
    "$\\begin{cases}\n",
    "x_{1}+x_{2}-x_{3}-2x_{4}=0,\\\\\n",
    "0-x_2-3x_2+5x_2=-2,\\\\\n",
    "0+0-2x_{3}+3x_{4}=4.\n",
    "\\end{cases}$"
   ]
  },
  {
   "cell_type": "markdown",
   "metadata": {},
   "source": [
    "#### Решение\n",
    "$$x_4 = c \\Rightarrow x_3 = \\frac{3c}{2}c - 2$$\n",
    "$$x_2=\\frac{1}{2}c+8$$\n",
    "$$x_1=3c-10$$\n",
    "При $c=0:$\n",
    "\n",
    "$x_1=-10$\n",
    "\n",
    "$x_2=8$\n",
    "\n",
    "$x_3=-2$ "
   ]
  },
  {
   "cell_type": "markdown",
   "metadata": {},
   "source": [
    "#### 2. Проверить на совместность и выяснить, сколько решений будет иметь система линейных уравнений:\n",
    "\n",
    "   а) $\\begin{cases}\n",
    "3x_{1}-x_{2}+x_{3}=4, \\\\\n",
    "2x_{1}-5x_{2}-3x_{3}=-17, \\\\\n",
    "x_{1}+x_{2}-x_{3}=0;\n",
    "\\end{cases}$\n",
    "    \n",
    "   б) $\\begin{cases}\n",
    "2x_{1}-4x_{2}+6x_{3}=1, \\\\\n",
    "x_{1}-2x_{2}+3x_{3}=-2, \\\\\n",
    "3x_{1}-6x_{2}+9x_{3}=5;\n",
    "\\end{cases}$\n",
    "    \n",
    "   в) $\\begin{cases}\n",
    "x_{1}+2x_{2}+5x_{3}=4, \\\\\n",
    "3x_{1}+x_{2}-8x_{3}=-2. \n",
    "\\end{cases}$"
   ]
  },
  {
   "cell_type": "markdown",
   "metadata": {},
   "source": [
    "#### Решение\n",
    "#### a)$A = \\begin{pmatrix}\n",
    "3&-1&1\\\\\n",
    "2&-5&-3\\\\\n",
    "1&1&-1\n",
    "\\end{pmatrix}$\n",
    "\n",
    "$rank(A) = 3$\n",
    "\n",
    "$\\tilde A = \\begin{pmatrix}\n",
    "\\left.\\begin{matrix}\n",
    "3&-1&1\\\\\n",
    "2&-5&-3\\\\\n",
    "1&1&-1\n",
    "\\end{matrix}\\\n",
    "\\right |\\begin{matrix}\n",
    "4\\\\\n",
    "-17\\\\\n",
    "0\n",
    "\\end{matrix}\n",
    "\\end{pmatrix}$\n",
    "\n",
    "$rank(\\tilde A = 3)$\n",
    "\n",
    "#### Система определена, т.е. имеет одно решение\n",
    "\n",
    "#### б)$B = \\begin{pmatrix}\n",
    "2&-4&6\\\\\n",
    "1&-2&3\\\\\n",
    "3&-6&9\n",
    "\\end{pmatrix}$\n",
    "\n",
    "$rank(B)=1$\n",
    "\n",
    "$\\tilde B = \\begin{pmatrix}\n",
    "\\left.\\begin{matrix}\n",
    "2&-4&6\\\\\n",
    "1&-2&3\\\\\n",
    "3&-6&9\n",
    "\\end{matrix}\\\n",
    "\\right |\\begin{matrix}\n",
    "1\\\\\n",
    "-2\\\\\n",
    "5\n",
    "\\end{matrix}\n",
    "\\end{pmatrix}$\n",
    "\n",
    "$rank(\\tilde B)=2$\n",
    "\n",
    "#### Система несовместна\n",
    "\n",
    "#### в)$V = \\begin{pmatrix}\n",
    "2&2&5\\\\\n",
    "3&1&-8\n",
    "\\end{pmatrix}$\n",
    "\n",
    "$rank(V)=2$\n",
    "\n",
    "$\\tilde B = \\begin{pmatrix}\n",
    "\\left.\\begin{matrix}\n",
    "2&2&5\\\\\n",
    "3&1&-8\n",
    "\\end{matrix}\\\n",
    "\\right |\\begin{matrix}\n",
    "4\\\\\n",
    "-2\n",
    "\\end{matrix}\n",
    "\\end{pmatrix}$\n",
    "\n",
    "$rank(\\tilde V)=2$\n",
    "\n",
    "#### Система совместна, имеет одно решение"
   ]
  },
  {
   "cell_type": "markdown",
   "metadata": {},
   "source": [
    "#### 3. Проверить на совместность и выяснить, сколько решений будет иметь система линейных уравнений, заданная расширенной матрицей\n",
    "$\\tilde{A}=\\begin{pmatrix}\n",
    "\\left.\\begin{matrix}\n",
    "1 & 3 & -2 & 4\\\\ \n",
    "0 & 5 & 0 & 1\\\\ \n",
    "0 & 0 & 3 & 0\\\\ \n",
    "0 & 0 & 0 & 2\n",
    "\\end{matrix}\\right|\n",
    "\\begin{matrix}\n",
    "3\\\\ \n",
    "2\\\\\n",
    "4\\\\\n",
    "1\n",
    "\\end{matrix}\n",
    "\\end{pmatrix}.$"
   ]
  },
  {
   "cell_type": "markdown",
   "metadata": {},
   "source": [
    "#### Решение\n",
    "$rank(A) = 4$\n",
    "\n",
    "$rank(\\tilde A) = 4$\n",
    "\n",
    "#### Система определена, одно решение"
   ]
  },
  {
   "cell_type": "code",
   "execution_count": 19,
   "metadata": {},
   "outputs": [
    {
     "name": "stdout",
     "output_type": "stream",
     "text": [
      "4\n"
     ]
    }
   ],
   "source": [
    "a = np.array([\n",
    "    [1, 3, -2, 4],\n",
    "    [0,5,0,1],\n",
    "    [0,0,3,0],\n",
    "    [0,0,0,2]\n",
    "])\n",
    "print(np.linalg.matrix_rank(a))"
   ]
  },
  {
   "cell_type": "code",
   "execution_count": 20,
   "metadata": {},
   "outputs": [
    {
     "name": "stdout",
     "output_type": "stream",
     "text": [
      "4\n"
     ]
    }
   ],
   "source": [
    "a_ = np.array([\n",
    "    [1, 3, -2, 4,3],\n",
    "    [0,5,0,1,2],\n",
    "    [0,0,3,0,4],\n",
    "    [0,0,0,2,1]\n",
    "])\n",
    "print(np.linalg.matrix_rank(a_))"
   ]
  },
  {
   "cell_type": "markdown",
   "metadata": {},
   "source": [
    "#### 4. Дана система линейных уравнений, заданная расширенной матрицей\n",
    "\n",
    "$\\tilde{A}=\\begin{pmatrix}\n",
    "\\left.\\begin{matrix}\n",
    "1 & 2 & 3\\\\ \n",
    "4 & 5 & 6\\\\ \n",
    "7 & 8 & 9\n",
    "\\end{matrix}\\right|\n",
    "\\begin{matrix}\n",
    "a\\\\ \n",
    "b\\\\\n",
    "c\n",
    "\\end{matrix}\n",
    "\\end{pmatrix}.$\n",
    "\n",
    "Найти соотношение между параметрами $a$, $b$ и $c$, при которых система является несовместной."
   ]
  },
  {
   "cell_type": "markdown",
   "metadata": {},
   "source": [
    "#### Решение\n",
    "$rank(A)=2$\n",
    "\n",
    "При $rank(\\tilde A) \\neq rank(A) \\neq 2$ система будет являться несовместной, это выполняется при $a = b = c$ "
   ]
  }
 ],
 "metadata": {
  "kernelspec": {
   "display_name": "Python 3",
   "language": "python",
   "name": "python3"
  },
  "language_info": {
   "codemirror_mode": {
    "name": "ipython",
    "version": 3
   },
   "file_extension": ".py",
   "mimetype": "text/x-python",
   "name": "python",
   "nbconvert_exporter": "python",
   "pygments_lexer": "ipython3",
   "version": "3.8.5"
  }
 },
 "nbformat": 4,
 "nbformat_minor": 4
}
