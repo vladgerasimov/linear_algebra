{
 "cells": [
  {
   "cell_type": "code",
   "execution_count": 1,
   "metadata": {},
   "outputs": [],
   "source": [
    "import numpy as np"
   ]
  },
  {
   "cell_type": "markdown",
   "metadata": {},
   "source": [
    "#### 1. Установить, какие произведения матриц  𝐴𝐵  и  𝐵𝐴  определены, и найти размерности полученных матриц:\n",
    "\n",
    "а)  𝐴  — матрица  4×2 ,  𝐵  — матрица  4×2 ;\n",
    "\n",
    "б)  𝐴  — матрица  2×5 ,  𝐵  — матрица  5×3 ;\n",
    "\n",
    "в)  𝐴  — матрица  8×3 ,  𝐵  — матрица  3×8 ;\n",
    "\n",
    "г)  𝐴  — квадратная матрица  4×4 ,  𝐵  — квадратная матрица  4×4 ."
   ]
  },
  {
   "cell_type": "markdown",
   "metadata": {},
   "source": [
    "#### Ответ\n",
    "a) $A \\cdot B$ и $B \\cdot A$ не определены, поскольку матрицы одинаковые и число столбцов в любой из них не совпадает с числом строк в другой\n",
    "\n",
    "б) $A \\cdot B$ определена, поскольку число столбцов у $A(5)$ совпадает с числом строк у $B(5)$, итоговая матрица будет размером $2 \\times 3$\n",
    "\n",
    "в) $A\\cdot B = (8\\times 8)$, $B\\cdot A = (3\\times3)$\n",
    "\n",
    "г) $A\\cdot B = B\\cdot A = (4\\times 4)$"
   ]
  },
  {
   "cell_type": "markdown",
   "metadata": {},
   "source": [
    "#### 2. Найти сумму и произведение матриц\n",
    "$A=\\begin{pmatrix}\n",
    "1 & -2\\\\ \n",
    "3 & 0\n",
    "\\end{pmatrix}$ и $B=\\begin{pmatrix}\n",
    "4 & -1\\\\ \n",
    "0 & 5\n",
    "\\end{pmatrix}.$"
   ]
  },
  {
   "cell_type": "markdown",
   "metadata": {},
   "source": [
    "#### Ответ\n",
    "$A + B = \\begin{pmatrix}5 & -3\\\\3 & 5\\end{pmatrix}$\n",
    "\n",
    "$A\\cdot B = \\begin{pmatrix}4 & -11\\\\12 & -3\\end{pmatrix}$\n"
   ]
  },
  {
   "cell_type": "code",
   "execution_count": 10,
   "metadata": {},
   "outputs": [
    {
     "name": "stdout",
     "output_type": "stream",
     "text": [
      "A + B = \n",
      "[[ 5 -3]\n",
      " [ 3  5]]\n",
      "A * B = \n",
      "[[  4 -11]\n",
      " [ 12  -3]]\n"
     ]
    }
   ],
   "source": [
    "a = np.array([[1, -2],\n",
    "              [3, 0]])\n",
    "\n",
    "b = np.array([[4, -1],\n",
    "              [0, 5]])\n",
    "print(f'A + B = \\n{a + b}')\n",
    "print(f'A * B = \\n{a.dot(b)}')"
   ]
  },
  {
   "cell_type": "markdown",
   "metadata": {},
   "source": [
    "#### 3. Из закономерностей сложения и умножения матриц на число можно сделать вывод, что матрицы одного размера образуют линейное пространство. Вычислить линейную комбинацию  3𝐴−2𝐵+4𝐶  для матриц\n",
    "$A=\\begin{pmatrix}\n",
    "1 & 7\\\\ \n",
    "3 & -6\n",
    "\\end{pmatrix}$, $B=\\begin{pmatrix}\n",
    "0 & 5\\\\ \n",
    "2 & -1\n",
    "\\end{pmatrix}$, $C=\\begin{pmatrix}\n",
    "2 & -4\\\\ \n",
    "1 & 1\n",
    "\\end{pmatrix}.$"
   ]
  },
  {
   "cell_type": "markdown",
   "metadata": {},
   "source": [
    "$3A - 2B + 4C = \n",
    "\\begin{pmatrix}3 & 21\\\\ 9 & -18 \\end{pmatrix} - \n",
    "\\begin{pmatrix}0 & 10\\\\ 4 & -2 \\end{pmatrix} + \n",
    "\\begin{pmatrix}8 & -32\\\\ 4 & 4 \\end{pmatrix} = \n",
    "\\begin{pmatrix}11 & -5\\\\ 9 & -12 \\end{pmatrix}$"
   ]
  },
  {
   "cell_type": "code",
   "execution_count": 11,
   "metadata": {},
   "outputs": [
    {
     "name": "stdout",
     "output_type": "stream",
     "text": [
      "3𝐴−2𝐵+4𝐶 = \n",
      " [[ 11  -5]\n",
      " [  9 -12]]\n"
     ]
    }
   ],
   "source": [
    "a = np.array([[1, 7],\n",
    "              [3, -6]])\n",
    "\n",
    "b = np.array([[0, 5],\n",
    "              [2, -1]])\n",
    "\n",
    "c = np.array([[2, -4],\n",
    "              [1, 1]])\n",
    "\n",
    "print(f'3𝐴−2𝐵+4𝐶 = \\n {3*a - 2*b + 4*c}')"
   ]
  },
  {
   "cell_type": "markdown",
   "metadata": {},
   "source": [
    "#### 4. Вычислить  $𝐴𝐴^T$  и  $𝐴^T𝐴$\n",
    "$A=\\begin{pmatrix}\n",
    "4 & 1\\\\ \n",
    "5 & -2\\\\ \n",
    "2 & 3\n",
    "\\end{pmatrix}$."
   ]
  },
  {
   "cell_type": "markdown",
   "metadata": {},
   "source": [
    "$A^T = \\begin{pmatrix} \n",
    "4 & 5 & 2\\\\\n",
    "1 & -2 & 3\n",
    "\\end{pmatrix}\n",
    "$"
   ]
  },
  {
   "cell_type": "markdown",
   "metadata": {},
   "source": [
    "$A\\cdot A^T = \\begin{pmatrix}\n",
    "17 & 18 & 11\\\\\n",
    "18 & 29 & 4\\\\\n",
    "11 & 4 & 13 \\end{pmatrix}\n",
    "$"
   ]
  },
  {
   "cell_type": "markdown",
   "metadata": {},
   "source": [
    "$A^T\\cdot{A} = \\begin{pmatrix}\n",
    "45 & 0\\\\\n",
    "0 & 14\n",
    "\\end{pmatrix}\n",
    "$"
   ]
  },
  {
   "cell_type": "code",
   "execution_count": 25,
   "metadata": {
    "scrolled": true
   },
   "outputs": [
    {
     "name": "stdout",
     "output_type": "stream",
     "text": [
      "a * a_t = \n",
      " [[17 18 11]\n",
      " [18 29  4]\n",
      " [11  4 13]]\n",
      "a_t * a  = \n",
      " [[45  0]\n",
      " [ 0 14]]\n"
     ]
    }
   ],
   "source": [
    "a = np.array([[4, 1],\n",
    "              [5, -2], \n",
    "              [2, 3]])\n",
    "\n",
    "a_t = a.T\n",
    "print(f'a * a_t = \\n {a.dot(a_t)}')\n",
    "print(f'a_t * a  = \\n {a_t.dot(a)}')"
   ]
  }
 ],
 "metadata": {
  "kernelspec": {
   "display_name": "Python 3",
   "language": "python",
   "name": "python3"
  },
  "language_info": {
   "codemirror_mode": {
    "name": "ipython",
    "version": 3
   },
   "file_extension": ".py",
   "mimetype": "text/x-python",
   "name": "python",
   "nbconvert_exporter": "python",
   "pygments_lexer": "ipython3",
   "version": "3.8.5"
  }
 },
 "nbformat": 4,
 "nbformat_minor": 4
}
