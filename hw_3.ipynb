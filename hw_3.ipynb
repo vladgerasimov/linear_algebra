{
 "cells": [
  {
   "cell_type": "markdown",
   "metadata": {},
   "source": [
    "#### 1. Найти собственные векторы и собственные значения для линейного оператора, заданного матрицей\n",
    "$A=\\begin{pmatrix}\n",
    "-1 & -6\\\\ \n",
    "2 & 6\n",
    "\\end{pmatrix}.$"
   ]
  },
  {
   "cell_type": "markdown",
   "metadata": {},
   "source": [
    "#### Ответ\n",
    "$\\begin{vmatrix}\n",
    "-1-\\lambda & -6 \\\\\n",
    "2 & 6-\\lambda\n",
    "\\end{vmatrix} = 0$"
   ]
  },
  {
   "cell_type": "markdown",
   "metadata": {},
   "source": [
    "$(-1-\\lambda)\\cdot (6-\\lambda) - (-6) \\cdot 2 = 0$\n",
    "\n",
    "$\\lambda^2 -5\\lambda + 6 = 0$\n",
    "\n",
    "$D = 25 - 24 = 1; \\sqrt{D} = 1$\n",
    "\n",
    "$\\lambda_1 = 2; \\lambda_2 = 3$"
   ]
  },
  {
   "cell_type": "markdown",
   "metadata": {},
   "source": [
    "$\\begin{pmatrix}\n",
    "-1 & -6\\\\ \n",
    "2 & 6\n",
    "\\end{pmatrix} \\cdot\n",
    "\\begin{pmatrix}\n",
    "x_1\\\\ \n",
    "x_2\n",
    "\\end{pmatrix}=\n",
    "\\lambda_n\\begin{pmatrix}\n",
    "x_1\\\\ \n",
    "x_2\n",
    "\\end{pmatrix}$"
   ]
  },
  {
   "cell_type": "markdown",
   "metadata": {},
   "source": [
    "$\\lambda_1 = 2:\n",
    "\\begin{cases}\n",
    "-x_1 -6x_2 = 2x_1\\\\\n",
    "2x_1 + 6x_2 = 2x_2\n",
    "\\end{cases} \\rightarrow\n",
    "\\begin{cases}\n",
    "3x_1 +6x_2 =0\\\\\n",
    "2x_1 + 4x_2 =\n",
    "\\end{cases} \\rightarrow x_1 = -2x_2$\n",
    "\n",
    "$\n",
    "v_1 = \\begin{pmatrix}\n",
    "2\\\\\n",
    "-1\n",
    "\\end{pmatrix}\n",
    "$"
   ]
  },
  {
   "cell_type": "markdown",
   "metadata": {},
   "source": [
    "$\\lambda_2 = 3:\n",
    "\\begin{cases}\n",
    "-x_1 -6x_2 = 3x_1\\\\\n",
    "2x_1 + 6x_2 = 3x_2\n",
    "\\end{cases} \\rightarrow\n",
    "\\begin{cases}\n",
    "4x_1 + 6x_2 =0\\\\\n",
    "2x_1 + 3x_2 =\n",
    "\\end{cases} \\rightarrow x_1 = -\\frac{3}{2}x_2$\n",
    "\n",
    "$\n",
    "v_1 = \\begin{pmatrix}\n",
    "3\\\\\n",
    "-2\n",
    "\\end{pmatrix}\n",
    "$"
   ]
  },
  {
   "cell_type": "markdown",
   "metadata": {},
   "source": [
    "2. Дан оператор поворота на 180 градусов, задаваемый матрицей\n",
    "\n",
    "$A=\\begin{pmatrix} -1 & 0\\\\ 0 & -1 \\end{pmatrix}.$\n",
    "\n",
    "Показать, что любой вектор является для него собственным."
   ]
  },
  {
   "cell_type": "markdown",
   "metadata": {},
   "source": [
    "#### Ответ\n",
    "Этот оператор отражает любой вектор относительно центра координат. Ясно, что для любого вектора, применение этого оператора равносильно умножению вектора на скаляр, равный -1\n",
    "\n",
    "$\\begin{pmatrix}\n",
    "-1 & 0\\\\ \n",
    "0 & -1\n",
    "\\end{pmatrix} \\cdot\n",
    "\\begin{pmatrix}\n",
    "x_1\\\\ \n",
    "x_2\n",
    "\\end{pmatrix}=\n",
    "\\begin{pmatrix}\n",
    "-x_1\\\\ \n",
    "-x_2\n",
    "\\end{pmatrix} =\n",
    "-1\\begin{pmatrix}\n",
    "x_1\\\\ \n",
    "x_2\n",
    "\\end{pmatrix}$"
   ]
  },
  {
   "cell_type": "markdown",
   "metadata": {},
   "source": [
    "#### 3. Пусть линейный оператор задан матрицей\n",
    "\n",
    "$A=\\begin{pmatrix} 1 & 1\\\\ -1 & 3 \\end{pmatrix}.$\n",
    "\n",
    "Установить, является ли вектор $x=(1,1)$ собственным вектором этого линейного оператора."
   ]
  },
  {
   "cell_type": "markdown",
   "metadata": {},
   "source": [
    "#### Решение\n",
    "$\\begin{vmatrix}\n",
    "1-\\lambda & 1 \\\\\n",
    "-1 & 3-\\lambda\n",
    "\\end{vmatrix} = 0$"
   ]
  },
  {
   "cell_type": "markdown",
   "metadata": {},
   "source": [
    "$\n",
    "(1-\\lambda)\\cdot(3-\\lambda) + 1 = 0\n",
    "$"
   ]
  },
  {
   "cell_type": "markdown",
   "metadata": {},
   "source": [
    "$\n",
    "3-\\lambda -3\\lambda + \\lambda^2 + 1 = 0\n",
    "$\n",
    "\n",
    "$\n",
    "\\lambda^2 -4\\lambda +4 = 0\n",
    "$\n",
    "\n",
    "$D = 16-16 = 0$\n",
    "\n",
    "$\\lambda_{1,2} = 2$"
   ]
  },
  {
   "cell_type": "markdown",
   "metadata": {},
   "source": [
    "$\\begin{pmatrix} 1 & 1\\\\ -1 & 3 \\end{pmatrix} \\cdot\n",
    "\\begin{pmatrix}\n",
    "1\\\\ \n",
    "1\n",
    "\\end{pmatrix}=\n",
    "2\\begin{pmatrix}\n",
    "1\\\\ \n",
    "1\n",
    "\\end{pmatrix}$"
   ]
  },
  {
   "cell_type": "markdown",
   "metadata": {},
   "source": [
    "Вектор $x = \\begin{pmatrix}1 \\\\ 1\\end{pmatrix}$ является собственным вектором"
   ]
  },
  {
   "cell_type": "markdown",
   "metadata": {},
   "source": [
    "**4.** Пусть линейный оператор задан матрицей\n",
    "\n",
    "$A=\\begin{pmatrix} 0 & 3 & 0\\\\ 3 & 0 & 0\\\\ 0 & 0 & 3 \\end{pmatrix}.$\n",
    "\n",
    "Установить, является ли вектор $x=(3, -3, -4)$ собственным вектором этого линейного оператора."
   ]
  }
 ],
 "metadata": {
  "kernelspec": {
   "display_name": "Python 3",
   "language": "python",
   "name": "python3"
  },
  "language_info": {
   "codemirror_mode": {
    "name": "ipython",
    "version": 3
   },
   "file_extension": ".py",
   "mimetype": "text/x-python",
   "name": "python",
   "nbconvert_exporter": "python",
   "pygments_lexer": "ipython3",
   "version": "3.8.5"
  }
 },
 "nbformat": 4,
 "nbformat_minor": 4
}
