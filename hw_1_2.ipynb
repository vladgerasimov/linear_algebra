{
 "cells": [
  {
   "cell_type": "code",
   "execution_count": 23,
   "metadata": {},
   "outputs": [],
   "source": [
    "import numpy as np\n",
    "from math import sqrt, acos, pi, degrees"
   ]
  },
  {
   "cell_type": "markdown",
   "metadata": {},
   "source": [
    "#### 1. Найти скалярное произведение векторов  𝑥,𝑦∈ℝ :\n",
    "\n",
    "а)  𝑥=(0,−3,6), 𝑦=(−4,7,9); \n",
    "\n",
    "\n",
    "б)  𝑥=(7,−4,0,1), 𝑦=(−3,1,11,2)."
   ]
  },
  {
   "cell_type": "markdown",
   "metadata": {},
   "source": [
    "#### Ответ\n",
    "a) $<x,y> = 0 - 21 + 54 = 33$"
   ]
  },
  {
   "cell_type": "code",
   "execution_count": 6,
   "metadata": {},
   "outputs": [
    {
     "name": "stdout",
     "output_type": "stream",
     "text": [
      "<x,y> = 33\n"
     ]
    }
   ],
   "source": [
    "x = np.array([0, -3, 6])\n",
    "y = np.array([-4, 7, 9])\n",
    "print(f'<x,y> = {x.dot(y)}')"
   ]
  },
  {
   "cell_type": "markdown",
   "metadata": {},
   "source": [
    "\n",
    "б) $<x,y> = -21 - 4 + 0 + 2 = -23$"
   ]
  },
  {
   "cell_type": "code",
   "execution_count": 5,
   "metadata": {},
   "outputs": [
    {
     "name": "stdout",
     "output_type": "stream",
     "text": [
      "<x,y> = -23\n"
     ]
    }
   ],
   "source": [
    "x = np.array([7, -4, 0, 1])\n",
    "y = np.array([-3, 1, 11, 2])\n",
    "print(f'<x,y> = {x.dot(y)}')"
   ]
  },
  {
   "cell_type": "markdown",
   "metadata": {},
   "source": [
    "#### 2. Найти нормы векторов  (4,2,4)  и  (12,3,4)  и угол между ними."
   ]
  },
  {
   "cell_type": "markdown",
   "metadata": {},
   "source": [
    "#### Ответ\n",
    "Буду использовать Евклидову норму, нормы векторов будут равны:\n",
    "\n",
    "$v_1 = \\sqrt{4^2 + 2^2 + 4^2} = 6$\n",
    "\n",
    "$v_2 = \\sqrt{12^2 + 3^2 + 4^2} = 13$"
   ]
  },
  {
   "cell_type": "markdown",
   "metadata": {},
   "source": [
    "Далее, используя скалярное произведение получим:\n",
    "\n",
    "$$<v_1, v_2> = |v_1|\\cdot|v_2|\\cdot cos(\\alpha) \\Rightarrow cos(\\alpha) = \\frac{<v_1, v_2>}{|v_1|\\cdot|v_2|}$$"
   ]
  },
  {
   "cell_type": "markdown",
   "metadata": {},
   "source": [
    "$cos(\\alpha) = \\frac{70}{180} \\approx 67^{\\circ}$"
   ]
  },
  {
   "cell_type": "code",
   "execution_count": 28,
   "metadata": {},
   "outputs": [
    {
     "data": {
      "text/plain": [
       "67.11461952384143"
      ]
     },
     "execution_count": 28,
     "metadata": {},
     "output_type": "execute_result"
    }
   ],
   "source": [
    "x = np.array([4,2,4])\n",
    "y = np.array([12,3,4])\n",
    "degrees(acos(x.dot(y)/(6*30)))"
   ]
  },
  {
   "cell_type": "markdown",
   "metadata": {},
   "source": [
    "#### 3. Будет ли линейное пространство евклидовым, если за скалярное произведение принять:\n",
    "а) произведение длин векторов;\n",
    "\n",
    "б) утроенное обычное скалярное произведение векторов?"
   ]
  },
  {
   "cell_type": "markdown",
   "metadata": {},
   "source": [
    "#### Ответ\n",
    "a) Да, поскольку все 4 аксиомы выполняются\n",
    "\n",
    "б) Да, поскольку все 4 аксиомы выполняются"
   ]
  },
  {
   "cell_type": "markdown",
   "metadata": {},
   "source": [
    "#### 4. Какие из нижеперечисленных векторов образуют ортонормированный базис в линейном пространстве  ℝ3 :\n",
    "а)  (1,0,0),(0,0,1); \n",
    "\n",
    "б)  $(1/\\sqrt2,−1/\\sqrt2,0),(1/\\sqrt2,1/\\sqrt2,0),(0,0,1)$; \n",
    "\n",
    "в)  (1/2,−1/2,0),(0,1/2,1/2),(0,0,1); \n",
    "\n",
    "г)  (1,0,0),(0,1,0),(0,0,1)?"
   ]
  },
  {
   "cell_type": "markdown",
   "metadata": {},
   "source": [
    "#### Ответ\n",
    "только г), поскольку только в нем базис составляют единичные ортоногальные векторы и их число соответствует размерности пространства"
   ]
  }
 ],
 "metadata": {
  "kernelspec": {
   "display_name": "Python 3",
   "language": "python",
   "name": "python3"
  },
  "language_info": {
   "codemirror_mode": {
    "name": "ipython",
    "version": 3
   },
   "file_extension": ".py",
   "mimetype": "text/x-python",
   "name": "python",
   "nbconvert_exporter": "python",
   "pygments_lexer": "ipython3",
   "version": "3.8.5"
  }
 },
 "nbformat": 4,
 "nbformat_minor": 4
}
