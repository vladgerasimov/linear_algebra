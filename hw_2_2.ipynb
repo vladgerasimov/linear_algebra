{
 "cells": [
  {
   "cell_type": "code",
   "execution_count": 15,
   "metadata": {},
   "outputs": [],
   "source": [
    "import numpy as np"
   ]
  },
  {
   "cell_type": "markdown",
   "metadata": {},
   "source": [
    "#### 1. Вычислить определитель:\n",
    "a)\n",
    "\n",
    "$\\begin{vmatrix}\n",
    "sinx & -cosx\\\\ \n",
    "cosx & sinx\n",
    "\\end{vmatrix};$\n",
    "\n",
    "б)\n",
    "    \n",
    "$\\begin{vmatrix}\n",
    "4 & 2 & 3\\\\ \n",
    "0 & 5 & 1\\\\ \n",
    "0 & 0 & 9\n",
    "\\end{vmatrix};$\n",
    "    \n",
    "   в)\n",
    "\n",
    "$\\begin{vmatrix}\n",
    "1 & 2 & 3\\\\ \n",
    "4 & 5 & 6\\\\ \n",
    "7 & 8 & 9\n",
    "\\end{vmatrix}.$"
   ]
  },
  {
   "cell_type": "markdown",
   "metadata": {},
   "source": [
    "#### Ответ\n",
    "a) $\n",
    "sin^2x + cos^2x = 1\n",
    "$\n",
    "\n",
    "б) $4 \\cdot \\begin{vmatrix}\n",
    "5 & 1\\\\\n",
    "0 & 9\n",
    "\\end{vmatrix} - 0 + 0 = \n",
    "4\\cdot 45 = 180\n",
    "$\n",
    "\n",
    "в) $1\\cdot \\begin{vmatrix}\n",
    "5 & 6\\\\\n",
    "8 & 9 \\end{vmatrix}\n",
    "- 2\\cdot \\begin{vmatrix}\n",
    "4 & 6\\\\\n",
    "7 & 9 \\end{vmatrix}\n",
    "+ 3 \\begin{vmatrix}\n",
    "4 & 5\\\\\n",
    "7 & 8 \\end{vmatrix} =\n",
    "(45-48) - 2\\cdot (36 - 42) + 3\\cdot (32 - 35) = \n",
    "-3 + 12 - 9 = 0\n",
    "$"
   ]
  },
  {
   "cell_type": "code",
   "execution_count": 16,
   "metadata": {},
   "outputs": [
    {
     "name": "stdout",
     "output_type": "stream",
     "text": [
      "det(b) = 180\n",
      "det(v) = 0\n"
     ]
    }
   ],
   "source": [
    "b = np.array([[4, 2, 3], \n",
    "              [0, 5, 1], \n",
    "              [0, 0, 9]])\n",
    "v = np.array([[1, 2, 3], \n",
    "              [4, 5, 6], \n",
    "              [7, 8, 9]])\n",
    "print(f'det(b) = {int(np.linalg.det(b))}')\n",
    "print(f'det(v) = {int(np.linalg.det(v))}')"
   ]
  },
  {
   "cell_type": "code",
   "execution_count": 17,
   "metadata": {},
   "outputs": [
    {
     "data": {
      "text/plain": [
       "180.0"
      ]
     },
     "execution_count": 17,
     "metadata": {},
     "output_type": "execute_result"
    }
   ],
   "source": [
    "c = 2*b\n",
    "np.linalg.det(b)"
   ]
  },
  {
   "cell_type": "markdown",
   "metadata": {},
   "source": [
    "#### 2. Определитель матрицы  𝐴  равен  4 . Найти:\n",
    "\n",
    "а)  $𝑑𝑒𝑡(𝐴^2)$ ;\n",
    "\n",
    "б)  $𝑑𝑒𝑡(𝐴^T)$ ;\n",
    "\n",
    "в)  𝑑𝑒𝑡(2𝐴) ."
   ]
  },
  {
   "cell_type": "markdown",
   "metadata": {},
   "source": [
    "#### Ответ\n",
    "a) $det(A^2) = det^2(A) = 16$\n",
    "\n",
    "б) $det(A^T) = det(A) = 4$\n",
    "\n",
    "в) $det(2\\cdot A) = det(A) = 4$"
   ]
  },
  {
   "cell_type": "markdown",
   "metadata": {},
   "source": [
    "#### 3. Доказать, что матрица вырожденная.\n",
    "$\\begin{pmatrix}\n",
    "-2 & 7 & -3\\\\ \n",
    "4 & -14 & 6\\\\ \n",
    "-3 & 7 & 13\n",
    "\\end{pmatrix}$\n"
   ]
  },
  {
   "cell_type": "markdown",
   "metadata": {},
   "source": [
    "Первая и вторая строки являются линейно зависимыми. Вторую строку можно получить из первой, умножив первую на -2, значит ее определитель равен нулю и матрица является вырожденной"
   ]
  },
  {
   "cell_type": "code",
   "execution_count": 18,
   "metadata": {},
   "outputs": [
    {
     "name": "stdout",
     "output_type": "stream",
     "text": [
      "det(A) = 0\n"
     ]
    }
   ],
   "source": [
    "a = np.array([[-2, 7, -3],\n",
    "              [4, -14, 6],\n",
    "              [-3, 7, 13]])\n",
    "print(f'det(A) = {int(np.linalg.det(a))}')"
   ]
  },
  {
   "cell_type": "markdown",
   "metadata": {},
   "source": [
    "#### 4. Найти ранг матрицы:\n",
    "а) $\\begin{pmatrix}\n",
    "1 & 2 & 3\\\\ \n",
    "1 & 1 & 1\\\\ \n",
    "2 & 3 & 4\n",
    "\\end{pmatrix};$\n",
    "\n",
    "   б) $\\begin{pmatrix}\n",
    "0 & 0 & 2 & 1\\\\ \n",
    "0 & 0 & 2 & 2\\\\ \n",
    "0 & 0 & 4 & 3\\\\ \n",
    "2 & 3 & 5 & 6\n",
    "\\end{pmatrix}.$"
   ]
  },
  {
   "cell_type": "markdown",
   "metadata": {},
   "source": [
    "a) Третью строку можно получить, сложив первые две строки, ранг матрицы равен 2"
   ]
  },
  {
   "cell_type": "code",
   "execution_count": 19,
   "metadata": {},
   "outputs": [
    {
     "name": "stdout",
     "output_type": "stream",
     "text": [
      "rank(A) = 2\n"
     ]
    }
   ],
   "source": [
    "a = np.array([[1, 2, 3],\n",
    "              [1, 1, 1],\n",
    "              [2, 3, 4]])\n",
    "print(f'rank(A) = {np.linalg.matrix_rank(a)}')"
   ]
  },
  {
   "cell_type": "markdown",
   "metadata": {},
   "source": [
    "б) Третью строку можно получить, сложив первые две строки, ранг матрицы равен 3"
   ]
  },
  {
   "cell_type": "code",
   "execution_count": 20,
   "metadata": {},
   "outputs": [
    {
     "name": "stdout",
     "output_type": "stream",
     "text": [
      "rank(B) = 3\n"
     ]
    }
   ],
   "source": [
    "b = np.array([[0, 0, 2, 1],\n",
    "              [0, 0, 2, 2],\n",
    "              [0, 0, 4, 3], \n",
    "              [2, 3, 5, 6]])\n",
    "print(f'rank(B) = {np.linalg.matrix_rank(b)}')"
   ]
  }
 ],
 "metadata": {
  "kernelspec": {
   "display_name": "Python 3",
   "language": "python",
   "name": "python3"
  },
  "language_info": {
   "codemirror_mode": {
    "name": "ipython",
    "version": 3
   },
   "file_extension": ".py",
   "mimetype": "text/x-python",
   "name": "python",
   "nbconvert_exporter": "python",
   "pygments_lexer": "ipython3",
   "version": "3.8.5"
  }
 },
 "nbformat": 4,
 "nbformat_minor": 4
}
